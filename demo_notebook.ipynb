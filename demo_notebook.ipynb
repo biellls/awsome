{
 "cells": [
  {
   "cell_type": "markdown",
   "metadata": {},
   "source": [
    "# Example usage of AWSome"
   ]
  },
  {
   "cell_type": "markdown",
   "metadata": {},
   "source": [
    "We will rename all the files from a bucket with a foo/bar/ prefix and copy them to another bucket."
   ]
  },
  {
   "cell_type": "code",
   "execution_count": 16,
   "metadata": {},
   "outputs": [],
   "source": [
    "from awsome import s3\n",
    "from awsome.development import debug_environment, dry_run"
   ]
  },
  {
   "cell_type": "markdown",
   "metadata": {},
   "source": [
    "## Intervention script"
   ]
  },
  {
   "cell_type": "markdown",
   "metadata": {},
   "source": [
    "We create the function that will do the renaming/copy intervention."
   ]
  },
  {
   "cell_type": "code",
   "execution_count": null,
   "metadata": {},
   "outputs": [],
   "source": [
    "def intervention():\n",
    "    keys = s3.ls('s3://testbucket/foo/bar/')\n",
    "    for key in keys:\n",
    "        new_key = key.replace('customers', 'clients')\n",
    "        # Rename all objects with the same key\n",
    "        s3.move_key(from_bucket='testbucket', from_key=key, to_bucket'testbucket', to_key=new_key)\n",
    "        # Move all objects to the production bucket with the same key\n",
    "        s3.move_key(from_bucket='testbucket', from_key=new_key, to_bucket'testbucket')"
   ]
  },
  {
   "cell_type": "markdown",
   "metadata": {},
   "source": [
    "## Testing the script"
   ]
  },
  {
   "cell_type": "markdown",
   "metadata": {},
   "source": [
    "Before running the script in production we should do a few tests to make sure it's doing what we think it is."
   ]
  },
  {
   "cell_type": "markdown",
   "metadata": {},
   "source": [
    "### Creating test data"
   ]
  },
  {
   "cell_type": "markdown",
   "metadata": {},
   "source": [
    "We will create some dummy files that mimic the structure of the files in our real aws instance to test the intervention on them."
   ]
  },
  {
   "cell_type": "code",
   "execution_count": 24,
   "metadata": {},
   "outputs": [],
   "source": [
    "def create_test_data():\n",
    "    for i in range(1, 6):\n",
    "        # Files we will be changing\n",
    "        key = f'foo/bar/customers_{i}.csv'\n",
    "        s3.upload_string(data='some data', bucket='testbucket', key=key)\n",
    "        \n",
    "        # Files we want untouched\n",
    "        key = f'foo/baz/companies_{i}.csv'\n",
    "        s3.upload_string(data='some data', bucket='testbucket', key=key)"
   ]
  },
  {
   "cell_type": "markdown",
   "metadata": {},
   "source": [
    "### Checking the test data"
   ]
  },
  {
   "cell_type": "markdown",
   "metadata": {},
   "source": [
    "Let's check that the test data is created correctly. Of course we don't want to actually create those dummy files in aws. \n",
    "\n",
    "Instead we use the debug_environment context manager that provides a moto s3 instance where we can run our tests as they would run in a real S3 instance. We just need to pass it the name of the buckets it needs to create."
   ]
  },
  {
   "cell_type": "code",
   "execution_count": 25,
   "metadata": {},
   "outputs": [
    {
     "name": "stdout",
     "output_type": "stream",
     "text": [
      "['foo/bar/customers_1.csv', 'foo/bar/customers_2.csv', 'foo/bar/customers_3.csv', 'foo/bar/customers_4.csv', 'foo/bar/customers_5.csv', 'foo/baz/companies_1.csv', 'foo/baz/companies_2.csv', 'foo/baz/companies_3.csv', 'foo/baz/companies_4.csv', 'foo/baz/companies_5.csv']\n"
     ]
    }
   ],
   "source": [
    "with debug_environment(['testbucket', 'prodbucket']):\n",
    "    create_test_data()\n",
    "    print(s3.ls('s3://testbucket/', recursive=True))\n",
    "    #print(s3.ls('s3://prodbucket/', recursive=True))"
   ]
  },
  {
   "cell_type": "code",
   "execution_count": null,
   "metadata": {},
   "outputs": [],
   "source": [
    "We can see that the sample data has been created correctly."
   ]
  }
 ],
 "metadata": {
  "kernelspec": {
   "display_name": "Python 3",
   "language": "python",
   "name": "python3"
  },
  "language_info": {
   "codemirror_mode": {
    "name": "ipython",
    "version": 3
   },
   "file_extension": ".py",
   "mimetype": "text/x-python",
   "name": "python",
   "nbconvert_exporter": "python",
   "pygments_lexer": "ipython3",
   "version": "3.6.6"
  }
 },
 "nbformat": 4,
 "nbformat_minor": 1
}
